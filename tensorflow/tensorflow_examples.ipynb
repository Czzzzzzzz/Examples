{
 "cells": [
  {
   "cell_type": "code",
   "execution_count": 1,
   "id": "afdd6f62",
   "metadata": {},
   "outputs": [],
   "source": [
    "import tensorflow as tf"
   ]
  },
  {
   "cell_type": "markdown",
   "id": "b8681ccd",
   "metadata": {},
   "source": [
    "# reshape"
   ]
  },
  {
   "cell_type": "code",
   "execution_count": 4,
   "id": "fb82c28c",
   "metadata": {},
   "outputs": [
    {
     "name": "stdout",
     "output_type": "stream",
     "text": [
      "tf.Tensor(\n",
      "[[ 1.  2.  3.  4.  5.  6.]\n",
      " [ 7.  8.  9. 10. 11. 12.]], shape=(2, 6), dtype=float32)\n",
      "tf.Tensor(\n",
      "[[[ 1.  2.  3.]\n",
      "  [ 4.  5.  6.]]\n",
      "\n",
      " [[ 7.  8.  9.]\n",
      "  [10. 11. 12.]]], shape=(2, 2, 3), dtype=float32)\n"
     ]
    }
   ],
   "source": [
    "a = tf.constant([[1.0, 2.0, 3.0, 4.0, 5.0, 6.0], [7.0, 8.0, 9.0, 10.0, 11.0, 12.0]])\n",
    "print(a)\n",
    "\n",
    "b = tf.reshape(a, (-1, 2, 3))\n",
    "print(b)"
   ]
  },
  {
   "cell_type": "markdown",
   "id": "7718eb2a",
   "metadata": {},
   "source": [
    "# Print"
   ]
  },
  {
   "cell_type": "code",
   "execution_count": 5,
   "id": "03d19e39",
   "metadata": {},
   "outputs": [
    {
     "ename": "AttributeError",
     "evalue": "module 'tensorflow' has no attribute 'Print'",
     "output_type": "error",
     "traceback": [
      "\u001b[0;31m---------------------------------------------------------------------------\u001b[0m",
      "\u001b[0;31mAttributeError\u001b[0m                            Traceback (most recent call last)",
      "Cell \u001b[0;32mIn[5], line 2\u001b[0m\n\u001b[1;32m      1\u001b[0m a \u001b[38;5;241m=\u001b[39m tf\u001b[38;5;241m.\u001b[39mconstant([\u001b[38;5;241m1.0\u001b[39m])\n\u001b[0;32m----> 2\u001b[0m b \u001b[38;5;241m=\u001b[39m \u001b[43mtf\u001b[49m\u001b[38;5;241;43m.\u001b[39;49m\u001b[43mPrint\u001b[49m(a, [a], \u001b[38;5;124m\"\u001b[39m\u001b[38;5;124ma:\u001b[39m\u001b[38;5;124m\"\u001b[39m)\n\u001b[1;32m      3\u001b[0m \u001b[38;5;28mprint\u001b[39m(b)\n",
      "\u001b[0;31mAttributeError\u001b[0m: module 'tensorflow' has no attribute 'Print'"
     ]
    }
   ],
   "source": [
    "a = tf.constant([1.0])\n",
    "b = tf.Print(a, [a], \"a:\") # No tf.Print in 2.0\n",
    "print(b)"
   ]
  },
  {
   "cell_type": "markdown",
   "id": "6ba346e9",
   "metadata": {},
   "source": [
    "# custom gradients"
   ]
  },
  {
   "cell_type": "code",
   "execution_count": 14,
   "id": "251a1091",
   "metadata": {},
   "outputs": [
    {
     "data": {
      "text/plain": [
       "<tf.Tensor: shape=(3,), dtype=float32, numpy=array([3., 5., 9.], dtype=float32)>"
      ]
     },
     "execution_count": 14,
     "metadata": {},
     "output_type": "execute_result"
    }
   ],
   "source": [
    "@tf.custom_gradient\n",
    "def replace_gradient(x, y):\n",
    "    def grad(dy):\n",
    "        return y, None\n",
    "    return x, grad\n",
    "\n",
    "a = tf.Variable([1.0, 2.0, 5.0], dtype=tf.float32)\n",
    "\n",
    "with tf.GradientTape() as g:\n",
    "    g.watch(a)\n",
    "    c = tf.constant([3.0, 5.0, 9.0])\n",
    "\n",
    "    b = replace_gradient(a, c)  \n",
    "#     b = tf.identity(a)\n",
    "    \n",
    "gradients = g.gradient(b, a)\n",
    "gradients"
   ]
  },
  {
   "cell_type": "code",
   "execution_count": 41,
   "id": "254ad5f8",
   "metadata": {},
   "outputs": [
    {
     "name": "stdout",
     "output_type": "stream",
     "text": [
      "db/da: tf.Tensor([3. 5. 9.], shape=(3,), dtype=float32)\n",
      "loss: tf.Tensor(8.0, shape=(), dtype=float32)\n",
      "dloss/da: tf.Tensor([3. 5. 9.], shape=(3,), dtype=float32)\n",
      "drloss/da: tf.Tensor([3. 5. 9.], shape=(3,), dtype=float32)\n",
      "a: <tf.Variable 'Variable:0' shape=(3,) dtype=float32, numpy=array([1., 2., 5.], dtype=float32)>\n",
      "updated a: <tf.Variable 'Variable:0' shape=(3,) dtype=float32, numpy=array([ 4.,  7., 14.], dtype=float32)>\n"
     ]
    }
   ],
   "source": [
    "@tf.custom_gradient\n",
    "def replace_gradient(x, y):\n",
    "    def grad(dy):\n",
    "        return y, None\n",
    "    return x, grad\n",
    "\n",
    "a = tf.Variable([1.0, 2.0, 5.0], trainable=True, dtype=tf.float32)\n",
    "\n",
    "with tf.GradientTape(persistent=True) as g:\n",
    "    g.watch(a)\n",
    "    c = tf.constant([3.0, 5.0, 9.0])\n",
    "\n",
    "    b = replace_gradient(a, c) \n",
    "    \n",
    "    loss = tf.reduce_sum(b)\n",
    "    real_loss = 0 * loss\n",
    "    \n",
    "g_db_da = g.gradient(b, a)\n",
    "g_dloss_da = g.gradient(loss, a)\n",
    "g_drloss_da = g.gradient(real_loss, a)\n",
    "print(\"db/da:\", g_db_da)\n",
    "print(\"loss:\", loss)\n",
    "print(\"dloss/da:\", g_dloss_da)\n",
    "print(\"drloss/da:\", g_drloss_da)\n",
    "print(\"a:\", a)\n",
    "\n",
    "optimizer = tf.keras.optimizers.SGD(learning_rate=-1)\n",
    "\n",
    "optimizer.apply_gradients(zip([g_drloss_da], [a]))\n",
    "\n",
    "print(\"updated a:\", a)\n",
    "\n",
    "\n",
    "# m = tf.Module()\n",
    "# m.v = tf.Variable([1.])\n",
    "# print(m.trainable_variables)"
   ]
  }
 ],
 "metadata": {
  "kernelspec": {
   "display_name": "Python 3 (ipykernel)",
   "language": "python",
   "name": "python3"
  },
  "language_info": {
   "codemirror_mode": {
    "name": "ipython",
    "version": 3
   },
   "file_extension": ".py",
   "mimetype": "text/x-python",
   "name": "python",
   "nbconvert_exporter": "python",
   "pygments_lexer": "ipython3",
   "version": "3.9.15"
  }
 },
 "nbformat": 4,
 "nbformat_minor": 5
}
